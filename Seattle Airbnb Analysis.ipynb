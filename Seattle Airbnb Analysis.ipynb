{
 "cells": [
  {
   "cell_type": "markdown",
   "metadata": {},
   "source": [
    "# Settle Airbnb Data Analysis"
   ]
  },
  {
   "cell_type": "markdown",
   "metadata": {},
   "source": [
    "## What kind of information am I looking for?\n",
    "\n",
    "- What are the busiest times of the year to visit Seattle? How will the price react to it?\n",
    "- Is there a general upward trend of both new Airbnb listings and total Airbnb visitors to Seattle?\n",
    "- How to be successful in Airbnb business?"
   ]
  },
  {
   "cell_type": "code",
   "execution_count": null,
   "metadata": {
    "collapsed": true
   },
   "outputs": [],
   "source": [
    "# Extra\n",
    "# predict positive / negative comment? sentiment - https://docs.aws.amazon.com/comprehend/latest/dg/how-sentiment.html\n",
    "# find out the variables relationships"
   ]
  },
  {
   "cell_type": "code",
   "execution_count": null,
   "metadata": {
    "collapsed": true
   },
   "outputs": [],
   "source": [
    "# import libraries\n",
    "\n",
    "import numpy as np\n",
    "import pandas as pd\n",
    "import matplotlib.pyplot as plt\n",
    "%matplotlib inline"
   ]
  },
  {
   "cell_type": "markdown",
   "metadata": {},
   "source": [
    "First, we take a look at the data"
   ]
  },
  {
   "cell_type": "code",
   "execution_count": null,
   "metadata": {},
   "outputs": [],
   "source": [
    "# explore calendar data\n",
    "df_cal = pd.read_csv('./seattle/calendar.csv')\n",
    "df_cal.head()"
   ]
  },
  {
   "cell_type": "code",
   "execution_count": null,
   "metadata": {},
   "outputs": [],
   "source": [
    "# explore listing data\n",
    "df_listings = pd.read_csv('./seattle/listings.csv')\n",
    "df_listings.head()"
   ]
  },
  {
   "cell_type": "code",
   "execution_count": null,
   "metadata": {},
   "outputs": [],
   "source": [
    "# explore reviews data\n",
    "df_reviews = pd.read_csv('./seattle/reviews.csv')\n",
    "df_reviews.head()"
   ]
  },
  {
   "cell_type": "code",
   "execution_count": null,
   "metadata": {},
   "outputs": [],
   "source": [
    "print('calendar shape:', df_cal.shape)\n",
    "print('listings shape:', df_listings.shape)\n",
    "print('reviews shape:', df_reviews.shape)"
   ]
  },
  {
   "cell_type": "markdown",
   "metadata": {},
   "source": [
    "## Data Preparation"
   ]
  },
  {
   "cell_type": "markdown",
   "metadata": {},
   "source": [
    "As amenities are packed in 1 field, we need to split them to different columns and change the value to 1 or 0"
   ]
  },
  {
   "cell_type": "code",
   "execution_count": null,
   "metadata": {},
   "outputs": [],
   "source": [
    "# transform amenities values to one or zero\n",
    "\n",
    "amenities = []\n",
    "\n",
    "for val in df_listings.amenities:\n",
    "    try:\n",
    "        # remove brackets\n",
    "        val =  val[1:-1]\n",
    "        # remove quote sign\n",
    "        val = val.replace(\"\\\"\", \"\")\n",
    "        amenities.extend(val.split(','))\n",
    "    except AttributeError:\n",
    "        pass\n",
    "\n",
    "# convert to set\n",
    "amenities = set(amenities)\n",
    "\n",
    "# remove empty string\n",
    "amenities.remove('')\n",
    "print(amenities)"
   ]
  },
  {
   "cell_type": "code",
   "execution_count": null,
   "metadata": {},
   "outputs": [],
   "source": [
    "def split_amenities(val, amenity_check):\n",
    "    \"\"\"\n",
    "    Function to check if ta string contains the amenity string and convert to 1 and 0\n",
    "    \n",
    "    input:  \n",
    "    val - (string) value to check if it contains the amenity string\n",
    "    amenity_check - (string) the amenity string to check\n",
    "    \n",
    "    output: \n",
    "    (int) if val contains the amennity, return 1; return 0 otherwise\n",
    "    \"\"\"\n",
    "    try:\n",
    "        if val.find(amenity_check) >-1:\n",
    "            return 1\n",
    "        else:\n",
    "            return 0\n",
    "    except AttributeError:\n",
    "        return 0\n",
    "\n",
    "# convert values    \n",
    "for amenity in amenities:        \n",
    "    df_listings[amenity] = df_listings['amenities'].apply(lambda x: split_amenities(x, amenity))\n",
    "        \n",
    "df_listings.head()    "
   ]
  },
  {
   "cell_type": "code",
   "execution_count": null,
   "metadata": {},
   "outputs": [],
   "source": [
    "# check missing data for calendar\n",
    "np.sum(df_cal.isnull()).sort_values(ascending=False)"
   ]
  },
  {
   "cell_type": "code",
   "execution_count": null,
   "metadata": {},
   "outputs": [],
   "source": [
    "# check why the price is missing\n",
    "df_cal[df_cal['price'].isnull()].groupby('available').count()"
   ]
  },
  {
   "cell_type": "markdown",
   "metadata": {},
   "source": [
    "In calendar data, as we can see, the price is missing when \"available\" is \"f\". This is normal as when the listing is not available for booking, there should be no price. No rows will be removed."
   ]
  },
  {
   "cell_type": "code",
   "execution_count": null,
   "metadata": {},
   "outputs": [],
   "source": [
    "# check missing data for listins\n",
    "df_listings_null_count = np.sum(df_listings.isnull()).rename_axis('column').reset_index(name='counts')\n",
    "df_listings_null_count = df_listings_null_count[df_listings_null_count['counts'] > 0]\n",
    "df_listings_null_count.sort_values(by='counts', ascending=False)"
   ]
  },
  {
   "cell_type": "markdown",
   "metadata": {},
   "source": [
    "In listing data, we can see some columns are with na / null values. However, as we will mainly use count and mean to perform the analysis (NA values are excluded by default), we will not remove an rows."
   ]
  },
  {
   "cell_type": "code",
   "execution_count": null,
   "metadata": {
    "collapsed": true
   },
   "outputs": [],
   "source": [
    "#df_listings.hist()"
   ]
  },
  {
   "cell_type": "markdown",
   "metadata": {},
   "source": [
    "## Q1: What are the busiest times of the year to visit Seattle? How will the price react to it?"
   ]
  },
  {
   "cell_type": "code",
   "execution_count": null,
   "metadata": {
    "collapsed": true
   },
   "outputs": [],
   "source": [
    "# convert date to datetime\n",
    "df_cal['date'] = pd.to_datetime(df_cal['date'])\n",
    "\n",
    "# check the busiest period\n",
    "df_cal['month'] = df_cal['date'].dt.to_period('M')"
   ]
  },
  {
   "cell_type": "code",
   "execution_count": null,
   "metadata": {},
   "outputs": [],
   "source": [
    "df_cal.head()"
   ]
  },
  {
   "cell_type": "code",
   "execution_count": null,
   "metadata": {},
   "outputs": [],
   "source": [
    "# limit the data to 2016 only as there are few record in 2017\n",
    "df_cal = df_cal[df_cal['date'] < '2017-01-01']\n",
    "\n",
    "# convert the price to number\n",
    "df_cal['price'] = df_cal[df_cal['price'].isnull() == False]['price'].apply(lambda x: float(x[1:].replace(',', '')))"
   ]
  },
  {
   "cell_type": "code",
   "execution_count": null,
   "metadata": {},
   "outputs": [],
   "source": [
    "# check number of data in the year for a listing_id\n",
    "df_cal.groupby(['listing_id']).count()['available'].unique()\n",
    "\n",
    "# we have only 363 days of data, the first 3 days in Jan-2016 is missing"
   ]
  },
  {
   "cell_type": "code",
   "execution_count": null,
   "metadata": {},
   "outputs": [],
   "source": [
    "# get the unavailabe count ('f') for each day\n",
    "df_available_f = df_cal[df_cal['available'] == 'f'].groupby(['month']).count()['listing_id'].reset_index(name=\"count\")\n",
    "df_available_f.head(12)"
   ]
  },
  {
   "cell_type": "code",
   "execution_count": null,
   "metadata": {},
   "outputs": [],
   "source": [
    "# get the availabe count ('t') for each day\n",
    "# https://stackoverflow.com/questions/29836477/pandas-create-new-column-with-count-from-groupby\n",
    "df_available_t = df_cal[df_cal['available'] == 't'].groupby(['month']).count()['listing_id'].reset_index(name=\"count\")\n",
    "df_available_t.head(12)"
   ]
  },
  {
   "cell_type": "code",
   "execution_count": null,
   "metadata": {},
   "outputs": [],
   "source": [
    "df_cal['listing_id'].nunique()"
   ]
  },
  {
   "cell_type": "markdown",
   "metadata": {},
   "source": [
    "### Number of Unavailable Listings in 2016"
   ]
  },
  {
   "cell_type": "code",
   "execution_count": null,
   "metadata": {},
   "outputs": [],
   "source": [
    "# https://stackoverflow.com/questions/332289/how-do-you-change-the-size-of-figures-drawn-with-matplotlib\n",
    "# https://stackoverflow.com/questions/44100429/plotting-period-series-in-matplotlib-pyplot\n",
    "x = np.arange(0,len(df_available_f),1)\n",
    "fig, ax = plt.subplots(1, 1, figsize=(12, 5))\n",
    "ax.bar(x, df_available_f['count'])\n",
    "ax.set_xticks(x)\n",
    "ax.set_xticklabels(df_available_f['month'])\n",
    "plt.xticks(rotation=45)\n",
    "plt.title('Number of Unavailable Listings in 2016')\n",
    "plt.show()"
   ]
  },
  {
   "cell_type": "markdown",
   "metadata": {},
   "source": [
    "### Number of Available Listings in 2016"
   ]
  },
  {
   "cell_type": "code",
   "execution_count": null,
   "metadata": {},
   "outputs": [],
   "source": [
    "x = np.arange(0,len(df_available_t),1)\n",
    "fig, ax = plt.subplots(1, 1, figsize=(12, 5))\n",
    "ax.bar(x, df_available_t['count'])\n",
    "ax.set_xticks(x)\n",
    "ax.set_xticklabels(df_available_t['month'])\n",
    "plt.xticks(rotation=45)\n",
    "plt.title('Number of Available Listings in 2016')\n",
    "plt.show()"
   ]
  },
  {
   "cell_type": "code",
   "execution_count": null,
   "metadata": {},
   "outputs": [],
   "source": [
    "df_available_t['count'] + df_available_f['count']"
   ]
  },
  {
   "cell_type": "markdown",
   "metadata": {},
   "source": [
    "From the charts above, we can see the busiest period in **2016** is **Jan-2016** and **Jul-2016**"
   ]
  },
  {
   "cell_type": "markdown",
   "metadata": {},
   "source": [
    "## Now the price. Plot some charts on the price changs during the year"
   ]
  },
  {
   "cell_type": "code",
   "execution_count": null,
   "metadata": {},
   "outputs": [],
   "source": [
    "# average price for each day\n",
    "df_day_price = df_cal[df_cal['available'] == 't'].groupby(['date']).mean()['price'].reset_index(name=\"avg_price\")\n",
    "df_day_price.head()"
   ]
  },
  {
   "cell_type": "code",
   "execution_count": null,
   "metadata": {},
   "outputs": [],
   "source": [
    "x = np.arange(0,len(df_day_price),1)\n",
    "fig, ax = plt.subplots(1, 1, figsize=(12, 8))\n",
    "ax.plot(x, df_day_price['avg_price'])\n",
    "ax.set_xticks(x)\n",
    "ax.set_xticklabels(df_day_price['date'])\n",
    "plt.title('Average price of listings in 2016')\n",
    "plt.show()"
   ]
  },
  {
   "cell_type": "code",
   "execution_count": null,
   "metadata": {},
   "outputs": [],
   "source": [
    "# average price by month\n",
    "df_month_price = df_cal.groupby(['month']).mean()['price'].reset_index(name=\"avg_price\")\n",
    "df_month_price.head(12)"
   ]
  },
  {
   "cell_type": "code",
   "execution_count": null,
   "metadata": {},
   "outputs": [],
   "source": [
    "x = np.arange(0,len(df_month_price),1)\n",
    "fig, ax = plt.subplots(1, 1, figsize=(12, 8))\n",
    "ax.bar(x, df_month_price['avg_price'])\n",
    "ax.set_xticks(x)\n",
    "plt.xticks(rotation=65)\n",
    "ax.set_xticklabels(df_month_price['month'])\n",
    "plt.title('Average Price of Listings in 2016')\n",
    "plt.show()"
   ]
  },
  {
   "cell_type": "markdown",
   "metadata": {},
   "source": [
    "# Let's study the price change in Jul-2016"
   ]
  },
  {
   "cell_type": "code",
   "execution_count": null,
   "metadata": {},
   "outputs": [],
   "source": [
    "# average price for Jul-2016\n",
    "#df_july = df_cal.query(\"available == 't' and date.month == 7\")\n",
    "df_july = df_cal[(df_cal['available'] == 't') & (df_cal['date'].dt.month == 7)]\n",
    "df_july_price = df_july.groupby(['date']).mean()['price'].reset_index(name=\"avg_price\")\n",
    "df_july_price.head()"
   ]
  },
  {
   "cell_type": "code",
   "execution_count": null,
   "metadata": {},
   "outputs": [],
   "source": [
    "x = np.arange(0,len(df_july_price),1)\n",
    "fig, ax = plt.subplots(1, 1, figsize=(18, 8))\n",
    "ax.bar(x, df_july_price['avg_price'])\n",
    "ax.set_xticks(x)\n",
    "ax.set_xticklabels(df_july_price['date'].dt.strftime('%Y-%m-%d'))\n",
    "plt.xticks(rotation=70)\n",
    "plt.title('Average price of listings in Jul-2016')\n",
    "plt.show()"
   ]
  },
  {
   "cell_type": "markdown",
   "metadata": {},
   "source": [
    "We can see the prices for 1-Jul, 2-Jul, 8-Jul, 9-Jul, 15-Jul, 16-Jul, 22-Jul, 23-Jul, 29-Jul and 30-Jul (Friday, Saturday) were higher than the prices on other days"
   ]
  },
  {
   "cell_type": "code",
   "execution_count": null,
   "metadata": {},
   "outputs": [],
   "source": [
    "# average price by listings\n",
    "df_month_price = df_cal.groupby(['listing_id']).mean()['price'].reset_index(name=\"avg_price\").sort_values(by='avg_price', ascending=False)\n",
    "df_month_price.head()"
   ]
  },
  {
   "cell_type": "markdown",
   "metadata": {},
   "source": [
    "We can see the average price is the highest in Jul-2016"
   ]
  },
  {
   "cell_type": "markdown",
   "metadata": {},
   "source": [
    "## Q2: Is there a general upward trend of both new Airbnb listings and total Airbnb visitors to Seattle?"
   ]
  },
  {
   "cell_type": "code",
   "execution_count": null,
   "metadata": {},
   "outputs": [],
   "source": [
    "df_host_since = pd.to_datetime(df_listings['host_since']).dt.to_period('A').value_counts().rename_axis('host_since').reset_index(name='counts')\n",
    "df_host_since = df_host_since[df_host_since['host_since'] < pd.to_datetime('2016-01-01').to_period('A')]\n",
    "df_host_since = df_host_since.sort_values(by='host_since')\n",
    "df_host_since.set_index(\"host_since\", drop=True, inplace=True)\n",
    "df_host_since.plot(kind='bar')\n",
    "plt.title(\"No of Host Since\")"
   ]
  },
  {
   "cell_type": "code",
   "execution_count": null,
   "metadata": {},
   "outputs": [],
   "source": [
    "df_superhosts_count = df_listings['host_is_superhost'].value_counts()\n",
    "df_superhosts_count.plot(kind ='bar')\n",
    "plt.title(\"Superhosts in 2016\")\n",
    "plt.show()"
   ]
  },
  {
   "cell_type": "code",
   "execution_count": null,
   "metadata": {},
   "outputs": [],
   "source": [
    "df_superhosts_count"
   ]
  },
  {
   "cell_type": "code",
   "execution_count": null,
   "metadata": {},
   "outputs": [],
   "source": [
    "df_reviews_month = pd.to_datetime(df_reviews['date']).dt.to_period('A').value_counts().rename_axis('date').reset_index(name='counts')\n",
    "df_reviews_month = df_reviews_month[df_reviews_month['date'] < pd.to_datetime('2016-01-01').to_period('A')]\n",
    "df_reviews_month = df_reviews_month.sort_values(by='date')\n",
    "df_reviews_month\n",
    "df_reviews_month.set_index(\"date\", drop=True, inplace=True)\n",
    "df_reviews_month.plot(kind='bar')\n",
    "plt.title(\"No of Reviews in Year\")"
   ]
  },
  {
   "cell_type": "markdown",
   "metadata": {},
   "source": [
    "##  Q3: How to be successful in Airbnb business?"
   ]
  },
  {
   "cell_type": "code",
   "execution_count": null,
   "metadata": {},
   "outputs": [],
   "source": [
    "df_listings.sort_values(by=['review_scores_rating', 'number_of_reviews'], ascending=[True, False])\n",
    "#df_listings.sort_values(by=['number_of_reviews'], ascending=[False])"
   ]
  },
  {
   "cell_type": "code",
   "execution_count": null,
   "metadata": {},
   "outputs": [],
   "source": [
    "df_listings[df_listings['id'] == 8474294]"
   ]
  },
  {
   "cell_type": "code",
   "execution_count": null,
   "metadata": {},
   "outputs": [],
   "source": [
    "df_listings.columns"
   ]
  },
  {
   "cell_type": "code",
   "execution_count": null,
   "metadata": {},
   "outputs": [],
   "source": [
    "df_listings.groupby(['property_type', 'room_type','bed_type']).mean()[['review_scores_rating', 'review_scores_accuracy','review_scores_cleanliness', 'review_scores_checkin', 'review_scores_communication', 'review_scores_location', 'review_scores_value']]"
   ]
  },
  {
   "cell_type": "code",
   "execution_count": null,
   "metadata": {},
   "outputs": [],
   "source": [
    "#df_listings.groupby(['room_type']).count()[['review_scores_rating']].plot(kind=\"bar\", legend=False)\n",
    "df_listings.groupby(['room_type']).count()[['id']].plot(kind=\"bar\", legend=False)\n",
    "plt.title(\"Listing Count of Different Room Types\")\n",
    "plt.xticks(rotation=70)"
   ]
  },
  {
   "cell_type": "code",
   "execution_count": null,
   "metadata": {},
   "outputs": [],
   "source": [
    "df_listings.groupby(['room_type']).mean()[['review_scores_rating']].plot(kind=\"bar\", legend=False)\n",
    "plt.title(\"Average Ratings of Different Room Types\")\n",
    "plt.xticks(rotation=70)"
   ]
  },
  {
   "cell_type": "code",
   "execution_count": null,
   "metadata": {},
   "outputs": [],
   "source": [
    "# neighbourhood_cleansed\n",
    "df_listings.groupby(['neighbourhood_cleansed']).mean()[['review_scores_rating']].plot(kind=\"bar\", legend=False, figsize=(20, 10))\n",
    "plt.title(\"Average Ratings of Neighbourhood (Cleansed)\")\n",
    "plt.xticks(rotation=90)\n",
    "print(df_listings.groupby(['neighbourhood_cleansed']).mean()[['review_scores_rating']])"
   ]
  },
  {
   "cell_type": "code",
   "execution_count": null,
   "metadata": {},
   "outputs": [],
   "source": [
    "df_responsetime_rating = df_listings.groupby(['host_response_time']).mean()[['review_scores_rating']].sort_values('review_scores_rating')\n",
    "df_responsetime_rating\n",
    "df_responsetime_rating.plot(kind=\"bar\", legend=False, figsize=(10, 6))\n",
    "plt.title(\"Average Ratings of Different Response Time\")\n",
    "plt.xticks(rotation=70)"
   ]
  },
  {
   "cell_type": "code",
   "execution_count": null,
   "metadata": {},
   "outputs": [],
   "source": [
    "df_listings.sum()[list(amenities)].sort_values(ascending=True).plot(kind ='barh', figsize=(15, 10))"
   ]
  },
  {
   "cell_type": "code",
   "execution_count": null,
   "metadata": {},
   "outputs": [],
   "source": [
    "amenities_list = list(amenities)\n",
    "with_amenity_avg_rating = []\n",
    "without_amenity_avg_rating = []\n",
    "for en in amenities_list:\n",
    "    with_amenity_avg_rating.append(df_listings[df_listings[en] == 1].mean()['review_scores_rating'])\n",
    "    without_amenity_avg_rating.append(df_listings[df_listings[en] == 0].mean()['review_scores_rating'])\n",
    "        \n",
    "df_amenities_rating = pd.DataFrame()\n",
    "df_amenities_rating['amenity'] = amenities_list\n",
    "df_amenities_rating['with_avg'] = with_amenity_avg_rating\n",
    "df_amenities_rating['without_avg'] = without_amenity_avg_rating\n",
    "\n",
    "df_amenities_rating.head()"
   ]
  },
  {
   "cell_type": "code",
   "execution_count": null,
   "metadata": {},
   "outputs": [],
   "source": [
    "# reset index\n",
    "# https://www.dataquest.io/blog/adding-axis-labels-to-plots-with-pandas-and-matplotlib/\n",
    "df_amenities_rating.set_index(\"amenity\", drop=True, inplace=True)\n",
    "df_amenities_rating = df_amenities_rating.sort_values(\"with_avg\", ascending=False)"
   ]
  },
  {
   "cell_type": "code",
   "execution_count": null,
   "metadata": {},
   "outputs": [],
   "source": [
    "# find \"major\" differences\n",
    "df_amenities_rating[abs(df_amenities_rating['with_avg'] - df_amenities_rating['without_avg']) > 2]"
   ]
  },
  {
   "cell_type": "code",
   "execution_count": null,
   "metadata": {},
   "outputs": [],
   "source": [
    "df_amenities_rating.plot(kind=\"barh\", figsize=(40, 40), use_index=True, fontsize=30)\n",
    "plt.title(\"Average Ratings for Amenity in 2016\", fontsize=30)\n",
    "plt.show()"
   ]
  },
  {
   "cell_type": "code",
   "execution_count": null,
   "metadata": {
    "collapsed": true
   },
   "outputs": [],
   "source": []
  }
 ],
 "metadata": {
  "kernelspec": {
   "display_name": "Python [default]",
   "language": "python",
   "name": "python3"
  },
  "language_info": {
   "codemirror_mode": {
    "name": "ipython",
    "version": 3
   },
   "file_extension": ".py",
   "mimetype": "text/x-python",
   "name": "python",
   "nbconvert_exporter": "python",
   "pygments_lexer": "ipython3",
   "version": "3.6.3"
  }
 },
 "nbformat": 4,
 "nbformat_minor": 2
}
